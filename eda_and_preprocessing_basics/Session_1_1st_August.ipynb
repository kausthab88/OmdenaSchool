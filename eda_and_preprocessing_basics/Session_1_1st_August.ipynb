{
  "nbformat": 4,
  "nbformat_minor": 0,
  "metadata": {
    "colab": {
      "provenance": []
    },
    "kernelspec": {
      "name": "python3",
      "display_name": "Python 3"
    },
    "language_info": {
      "name": "python"
    }
  },
  "cells": [
    {
      "cell_type": "markdown",
      "source": [
        "#### variable\n",
        "\n",
        "can be considered as a container that can store values"
      ],
      "metadata": {
        "id": "yC011cy7fE81"
      }
    },
    {
      "cell_type": "code",
      "source": [
        "car = 'honda'"
      ],
      "metadata": {
        "id": "wsQQJbyyr1PH"
      },
      "execution_count": 1,
      "outputs": []
    },
    {
      "cell_type": "code",
      "source": [
        "num = 2"
      ],
      "metadata": {
        "id": "6JuIH9zvsAGC"
      },
      "execution_count": 2,
      "outputs": []
    },
    {
      "cell_type": "code",
      "source": [
        "num = 100"
      ],
      "metadata": {
        "id": "5i8llx4wsDXw"
      },
      "execution_count": 3,
      "outputs": []
    },
    {
      "cell_type": "markdown",
      "source": [
        "#### Data Types"
      ],
      "metadata": {
        "id": "0XEZnbvNsHDt"
      }
    },
    {
      "cell_type": "markdown",
      "source": [
        "##### Integer\n",
        "\n",
        "is any number without a decimal"
      ],
      "metadata": {
        "id": "5JEwuQGNsNq0"
      }
    },
    {
      "cell_type": "code",
      "source": [
        "num = 100"
      ],
      "metadata": {
        "id": "ntCVMRM6sSUt"
      },
      "execution_count": 4,
      "outputs": []
    },
    {
      "cell_type": "code",
      "source": [
        "type(num)"
      ],
      "metadata": {
        "colab": {
          "base_uri": "https://localhost:8080/"
        },
        "id": "tqYAQp45sde1",
        "outputId": "934b637a-5e98-47d6-c9a3-3e03cf133e44"
      },
      "execution_count": 5,
      "outputs": [
        {
          "output_type": "execute_result",
          "data": {
            "text/plain": [
              "int"
            ]
          },
          "metadata": {},
          "execution_count": 5
        }
      ]
    },
    {
      "cell_type": "code",
      "source": [
        "num = 50"
      ],
      "metadata": {
        "id": "mv3DqCSSsfCx"
      },
      "execution_count": 6,
      "outputs": []
    },
    {
      "cell_type": "code",
      "source": [
        "type(num)"
      ],
      "metadata": {
        "colab": {
          "base_uri": "https://localhost:8080/"
        },
        "id": "vHbGhS5Dsh6U",
        "outputId": "98f80ade-b74e-414b-ce7b-50aab5c0b73f"
      },
      "execution_count": 7,
      "outputs": [
        {
          "output_type": "execute_result",
          "data": {
            "text/plain": [
              "int"
            ]
          },
          "metadata": {},
          "execution_count": 7
        }
      ]
    },
    {
      "cell_type": "markdown",
      "source": [
        "##### Float\n",
        "\n",
        "any number with a decimal"
      ],
      "metadata": {
        "id": "U_keCnOWsi-s"
      }
    },
    {
      "cell_type": "code",
      "source": [
        "num = 100.0"
      ],
      "metadata": {
        "id": "SeQWWVNEst6g"
      },
      "execution_count": 8,
      "outputs": []
    },
    {
      "cell_type": "code",
      "source": [
        "type(num)"
      ],
      "metadata": {
        "colab": {
          "base_uri": "https://localhost:8080/"
        },
        "id": "pJXe9enmswjh",
        "outputId": "9c02ce0c-a38d-44c5-df61-03362ee0f80b"
      },
      "execution_count": 9,
      "outputs": [
        {
          "output_type": "execute_result",
          "data": {
            "text/plain": [
              "float"
            ]
          },
          "metadata": {},
          "execution_count": 9
        }
      ]
    },
    {
      "cell_type": "code",
      "source": [
        "x = 50\n",
        "y = 100.0"
      ],
      "metadata": {
        "id": "l7tzYb3gsxhw"
      },
      "execution_count": 10,
      "outputs": []
    },
    {
      "cell_type": "code",
      "source": [
        "x+y"
      ],
      "metadata": {
        "colab": {
          "base_uri": "https://localhost:8080/"
        },
        "id": "nQjoilJrs3ME",
        "outputId": "471b8c36-9872-49c1-ebf2-2d32f9172d58"
      },
      "execution_count": 11,
      "outputs": [
        {
          "output_type": "execute_result",
          "data": {
            "text/plain": [
              "150.0"
            ]
          },
          "metadata": {},
          "execution_count": 11
        }
      ]
    },
    {
      "cell_type": "markdown",
      "source": [
        "##### String\n",
        "\n",
        "any data if stored inside '' or \"\" is called a string"
      ],
      "metadata": {
        "id": "dyLjDr7Zs7f1"
      }
    },
    {
      "cell_type": "code",
      "source": [
        "num = '100'"
      ],
      "metadata": {
        "id": "WWlBR_TNtOZh"
      },
      "execution_count": 12,
      "outputs": []
    },
    {
      "cell_type": "code",
      "source": [
        "type(num)"
      ],
      "metadata": {
        "colab": {
          "base_uri": "https://localhost:8080/"
        },
        "id": "xFSGs3dgtRny",
        "outputId": "e2933436-c205-403b-8f2b-b62bee0c7733"
      },
      "execution_count": 13,
      "outputs": [
        {
          "output_type": "execute_result",
          "data": {
            "text/plain": [
              "str"
            ]
          },
          "metadata": {},
          "execution_count": 13
        }
      ]
    },
    {
      "cell_type": "code",
      "source": [
        "sentence = \"This is a good day to learn data science\""
      ],
      "metadata": {
        "id": "CCwFS93CtT8v"
      },
      "execution_count": 14,
      "outputs": []
    },
    {
      "cell_type": "code",
      "source": [
        "type(sentence)"
      ],
      "metadata": {
        "colab": {
          "base_uri": "https://localhost:8080/"
        },
        "id": "GNAqZq2gtcwc",
        "outputId": "88bdc20e-26a8-4620-c520-00d134535759"
      },
      "execution_count": 15,
      "outputs": [
        {
          "output_type": "execute_result",
          "data": {
            "text/plain": [
              "str"
            ]
          },
          "metadata": {},
          "execution_count": 15
        }
      ]
    },
    {
      "cell_type": "markdown",
      "source": [
        "##### Boolean\n",
        "\n",
        "which has value of True or False"
      ],
      "metadata": {
        "id": "sWspT0DqtfKq"
      }
    },
    {
      "cell_type": "markdown",
      "source": [
        "\"=\": means we are assigning a value\n",
        "\n",
        "\"==\": means we are comparing something"
      ],
      "metadata": {
        "id": "YvdqwpgltzKS"
      }
    },
    {
      "cell_type": "code",
      "source": [
        "True == 1"
      ],
      "metadata": {
        "colab": {
          "base_uri": "https://localhost:8080/"
        },
        "id": "bNLBffISuGKt",
        "outputId": "16c48f1e-d6dc-48ae-aa35-66820c2cb8c5"
      },
      "execution_count": 16,
      "outputs": [
        {
          "output_type": "execute_result",
          "data": {
            "text/plain": [
              "True"
            ]
          },
          "metadata": {},
          "execution_count": 16
        }
      ]
    },
    {
      "cell_type": "code",
      "source": [
        "True == 2"
      ],
      "metadata": {
        "colab": {
          "base_uri": "https://localhost:8080/"
        },
        "id": "zYBBwFKSuTCc",
        "outputId": "96edb081-d5da-4928-db0c-0789d1963fae"
      },
      "execution_count": 17,
      "outputs": [
        {
          "output_type": "execute_result",
          "data": {
            "text/plain": [
              "False"
            ]
          },
          "metadata": {},
          "execution_count": 17
        }
      ]
    },
    {
      "cell_type": "code",
      "source": [
        "False == 0"
      ],
      "metadata": {
        "colab": {
          "base_uri": "https://localhost:8080/"
        },
        "id": "upx8rQD1uZVs",
        "outputId": "02d5bbd6-45d5-4bc6-8abf-0daca380c8bf"
      },
      "execution_count": 18,
      "outputs": [
        {
          "output_type": "execute_result",
          "data": {
            "text/plain": [
              "True"
            ]
          },
          "metadata": {},
          "execution_count": 18
        }
      ]
    },
    {
      "cell_type": "markdown",
      "source": [
        "#### Data Structures"
      ],
      "metadata": {
        "id": "Lw3N4u3Pub7Z"
      }
    },
    {
      "cell_type": "markdown",
      "source": [
        "##### LIST\n",
        "\n",
        "a list is a mutable, ordered sequence of elements"
      ],
      "metadata": {
        "id": "MeV0BRDUuuwM"
      }
    },
    {
      "cell_type": "code",
      "source": [
        "fruits = ['apples','bananas','pear']"
      ],
      "metadata": {
        "id": "yKPDw9AmvYqA"
      },
      "execution_count": 19,
      "outputs": []
    },
    {
      "cell_type": "code",
      "source": [
        "fruits.index('pear')"
      ],
      "metadata": {
        "colab": {
          "base_uri": "https://localhost:8080/"
        },
        "id": "404y_G3ovebB",
        "outputId": "7d2ef444-773a-47a8-d5b1-8c3bd56a0cd2"
      },
      "execution_count": 22,
      "outputs": [
        {
          "output_type": "execute_result",
          "data": {
            "text/plain": [
              "2"
            ]
          },
          "metadata": {},
          "execution_count": 22
        }
      ]
    },
    {
      "cell_type": "code",
      "source": [
        "fruits[-1]"
      ],
      "metadata": {
        "colab": {
          "base_uri": "https://localhost:8080/",
          "height": 35
        },
        "id": "atBQvrWbwQ8l",
        "outputId": "8ff01825-b4cb-4b09-dd3f-5246185d3f4a"
      },
      "execution_count": 23,
      "outputs": [
        {
          "output_type": "execute_result",
          "data": {
            "text/plain": [
              "'pear'"
            ],
            "application/vnd.google.colaboratory.intrinsic+json": {
              "type": "string"
            }
          },
          "metadata": {},
          "execution_count": 23
        }
      ]
    },
    {
      "cell_type": "code",
      "source": [
        "fruits.append('grapes')"
      ],
      "metadata": {
        "id": "iCx4qq5nwQ6c"
      },
      "execution_count": 24,
      "outputs": []
    },
    {
      "cell_type": "code",
      "source": [
        "fruits"
      ],
      "metadata": {
        "colab": {
          "base_uri": "https://localhost:8080/"
        },
        "id": "8SB27xJQwQ4O",
        "outputId": "ffa97c11-bac1-4f15-bc31-29ca0077693e"
      },
      "execution_count": 25,
      "outputs": [
        {
          "output_type": "execute_result",
          "data": {
            "text/plain": [
              "['apples', 'bananas', 'pear', 'grapes']"
            ]
          },
          "metadata": {},
          "execution_count": 25
        }
      ]
    },
    {
      "cell_type": "code",
      "source": [
        "fruits.insert(2,'fig')"
      ],
      "metadata": {
        "id": "WTS0zQINwQ2A"
      },
      "execution_count": 26,
      "outputs": []
    },
    {
      "cell_type": "code",
      "source": [
        "fruits"
      ],
      "metadata": {
        "colab": {
          "base_uri": "https://localhost:8080/"
        },
        "id": "1b_ErJOIwQzW",
        "outputId": "7efa2210-bbb6-4ddc-a66f-1498df2a5fe5"
      },
      "execution_count": 27,
      "outputs": [
        {
          "output_type": "execute_result",
          "data": {
            "text/plain": [
              "['apples', 'bananas', 'fig', 'pear', 'grapes']"
            ]
          },
          "metadata": {},
          "execution_count": 27
        }
      ]
    },
    {
      "cell_type": "code",
      "source": [
        "last_fruit = fruits.pop()"
      ],
      "metadata": {
        "id": "jv3KUREDwQwi"
      },
      "execution_count": 28,
      "outputs": []
    },
    {
      "cell_type": "code",
      "source": [
        "last_fruit"
      ],
      "metadata": {
        "colab": {
          "base_uri": "https://localhost:8080/",
          "height": 35
        },
        "id": "q5l6XkluwQti",
        "outputId": "4656c2c9-5954-4114-f6f7-81ae6a3769f7"
      },
      "execution_count": 29,
      "outputs": [
        {
          "output_type": "execute_result",
          "data": {
            "text/plain": [
              "'grapes'"
            ],
            "application/vnd.google.colaboratory.intrinsic+json": {
              "type": "string"
            }
          },
          "metadata": {},
          "execution_count": 29
        }
      ]
    },
    {
      "cell_type": "code",
      "source": [
        "fruits"
      ],
      "metadata": {
        "colab": {
          "base_uri": "https://localhost:8080/"
        },
        "id": "BonxiwlGxIus",
        "outputId": "68f7f5e7-1495-4036-bc8d-399022df0676"
      },
      "execution_count": 30,
      "outputs": [
        {
          "output_type": "execute_result",
          "data": {
            "text/plain": [
              "['apples', 'bananas', 'fig', 'pear']"
            ]
          },
          "metadata": {},
          "execution_count": 30
        }
      ]
    },
    {
      "cell_type": "markdown",
      "source": [
        "#### Dictionary\n",
        "\n",
        "it is represented by {} and are represented with a \"key:value\" pair"
      ],
      "metadata": {
        "id": "SNpXQfXqxPMO"
      }
    },
    {
      "cell_type": "code",
      "source": [
        "fruits = {\n",
        "    'apples':2,\n",
        "    'bananas':3,\n",
        "    'fig':4,\n",
        "    'pears':5\n",
        "}"
      ],
      "metadata": {
        "id": "QA_s8I5TxhPx"
      },
      "execution_count": 31,
      "outputs": []
    },
    {
      "cell_type": "code",
      "source": [
        "fruits.items()"
      ],
      "metadata": {
        "colab": {
          "base_uri": "https://localhost:8080/"
        },
        "id": "cnSVu6hWxiYP",
        "outputId": "78c62e3f-c3e7-43f3-cb07-e8bd6db2cfbc"
      },
      "execution_count": 32,
      "outputs": [
        {
          "output_type": "execute_result",
          "data": {
            "text/plain": [
              "dict_items([('apples', 2), ('bananas', 3), ('fig', 4), ('pears', 5)])"
            ]
          },
          "metadata": {},
          "execution_count": 32
        }
      ]
    },
    {
      "cell_type": "code",
      "source": [
        "fruits.keys()"
      ],
      "metadata": {
        "colab": {
          "base_uri": "https://localhost:8080/"
        },
        "id": "STm5m5nLxiV6",
        "outputId": "c4c08358-5995-41de-8210-2c7626b1515b"
      },
      "execution_count": 33,
      "outputs": [
        {
          "output_type": "execute_result",
          "data": {
            "text/plain": [
              "dict_keys(['apples', 'bananas', 'fig', 'pears'])"
            ]
          },
          "metadata": {},
          "execution_count": 33
        }
      ]
    },
    {
      "cell_type": "code",
      "source": [
        "fruits.values()"
      ],
      "metadata": {
        "colab": {
          "base_uri": "https://localhost:8080/"
        },
        "id": "3hLa3UCyxiTj",
        "outputId": "cf20a25a-47c9-4cfc-ef9a-252021b52a7a"
      },
      "execution_count": 34,
      "outputs": [
        {
          "output_type": "execute_result",
          "data": {
            "text/plain": [
              "dict_values([2, 3, 4, 5])"
            ]
          },
          "metadata": {},
          "execution_count": 34
        }
      ]
    },
    {
      "cell_type": "code",
      "source": [
        "fruits['grapes'] = 8"
      ],
      "metadata": {
        "id": "PZNcFhUGxiRE"
      },
      "execution_count": 35,
      "outputs": []
    },
    {
      "cell_type": "code",
      "source": [
        "fruits"
      ],
      "metadata": {
        "colab": {
          "base_uri": "https://localhost:8080/"
        },
        "id": "B9z8EsrFxiOd",
        "outputId": "5416f068-3670-405e-fb83-8068c29ce058"
      },
      "execution_count": 36,
      "outputs": [
        {
          "output_type": "execute_result",
          "data": {
            "text/plain": [
              "{'apples': 2, 'bananas': 3, 'fig': 4, 'pears': 5, 'grapes': 8}"
            ]
          },
          "metadata": {},
          "execution_count": 36
        }
      ]
    },
    {
      "cell_type": "code",
      "source": [
        "fruits.pop('apples')"
      ],
      "metadata": {
        "colab": {
          "base_uri": "https://localhost:8080/"
        },
        "id": "QJ4cnSFqxiME",
        "outputId": "66ae4ffd-c25e-4c25-9594-47b2e4606ed3"
      },
      "execution_count": 37,
      "outputs": [
        {
          "output_type": "execute_result",
          "data": {
            "text/plain": [
              "2"
            ]
          },
          "metadata": {},
          "execution_count": 37
        }
      ]
    },
    {
      "cell_type": "code",
      "source": [
        "fruits"
      ],
      "metadata": {
        "colab": {
          "base_uri": "https://localhost:8080/"
        },
        "id": "WmHWGJu_xiJr",
        "outputId": "04b943d4-0216-4fdc-a5b6-ad9b7c946d83"
      },
      "execution_count": 38,
      "outputs": [
        {
          "output_type": "execute_result",
          "data": {
            "text/plain": [
              "{'bananas': 3, 'fig': 4, 'pears': 5, 'grapes': 8}"
            ]
          },
          "metadata": {},
          "execution_count": 38
        }
      ]
    },
    {
      "cell_type": "markdown",
      "source": [
        "##### Set\n",
        "\n",
        "sets are also represented by {} but they do not allow duplicate values"
      ],
      "metadata": {
        "id": "WxhMW8y6xiHK"
      }
    },
    {
      "cell_type": "code",
      "source": [
        "fruits = ['apples', 'bananas', 'fig', 'pear','bananas','apples','bananas']"
      ],
      "metadata": {
        "id": "B5XasfhmxiEo"
      },
      "execution_count": 39,
      "outputs": []
    },
    {
      "cell_type": "code",
      "source": [
        "type(fruits)"
      ],
      "metadata": {
        "colab": {
          "base_uri": "https://localhost:8080/"
        },
        "id": "amJuQ87HxiCI",
        "outputId": "8e484fa2-15b7-48af-80e8-9073ae499844"
      },
      "execution_count": 40,
      "outputs": [
        {
          "output_type": "execute_result",
          "data": {
            "text/plain": [
              "list"
            ]
          },
          "metadata": {},
          "execution_count": 40
        }
      ]
    },
    {
      "cell_type": "code",
      "source": [
        "#Type casting\n",
        "\n",
        "set(fruits)"
      ],
      "metadata": {
        "colab": {
          "base_uri": "https://localhost:8080/"
        },
        "id": "wjAryJK8xh_Y",
        "outputId": "6754db63-08da-4afc-8ba2-93d96ce66d36"
      },
      "execution_count": 41,
      "outputs": [
        {
          "output_type": "execute_result",
          "data": {
            "text/plain": [
              "{'apples', 'bananas', 'fig', 'pear'}"
            ]
          },
          "metadata": {},
          "execution_count": 41
        }
      ]
    },
    {
      "cell_type": "code",
      "source": [
        "fruits = ['pears','fig','apples','pears']"
      ],
      "metadata": {
        "id": "hSGauWeOxh4B"
      },
      "execution_count": 42,
      "outputs": []
    },
    {
      "cell_type": "code",
      "source": [
        "fruits_set = set(fruits)"
      ],
      "metadata": {
        "id": "6At0mrbszcv5"
      },
      "execution_count": 45,
      "outputs": []
    },
    {
      "cell_type": "code",
      "source": [
        "fruits_set"
      ],
      "metadata": {
        "colab": {
          "base_uri": "https://localhost:8080/"
        },
        "id": "vKH_g56KzdwU",
        "outputId": "aa6142c2-84ca-4817-fb8b-2ebc6af40ef7"
      },
      "execution_count": 46,
      "outputs": [
        {
          "output_type": "execute_result",
          "data": {
            "text/plain": [
              "{'apples', 'fig', 'pears'}"
            ]
          },
          "metadata": {},
          "execution_count": 46
        }
      ]
    },
    {
      "cell_type": "code",
      "source": [
        "fruits_set.pop()"
      ],
      "metadata": {
        "colab": {
          "base_uri": "https://localhost:8080/",
          "height": 35
        },
        "id": "Yy6vUCEC0jCs",
        "outputId": "310e15d3-e8ee-4199-a5fe-541ce41cd31b"
      },
      "execution_count": 50,
      "outputs": [
        {
          "output_type": "execute_result",
          "data": {
            "text/plain": [
              "'apples'"
            ],
            "application/vnd.google.colaboratory.intrinsic+json": {
              "type": "string"
            }
          },
          "metadata": {},
          "execution_count": 50
        }
      ]
    },
    {
      "cell_type": "markdown",
      "source": [
        "##### Tuple\n",
        "\n",
        "They are immutable and they are represented by ()"
      ],
      "metadata": {
        "id": "b1ssk4CgziBV"
      }
    },
    {
      "cell_type": "code",
      "source": [
        "fruits_tup = tuple(fruits)"
      ],
      "metadata": {
        "id": "Z4vGjAMo0C2S"
      },
      "execution_count": 47,
      "outputs": []
    },
    {
      "cell_type": "code",
      "source": [
        "fruits_tup"
      ],
      "metadata": {
        "colab": {
          "base_uri": "https://localhost:8080/"
        },
        "id": "72sw5q4m0G7k",
        "outputId": "2b1fe105-dcd9-402f-e4c1-bd49adf1a5a1"
      },
      "execution_count": 48,
      "outputs": [
        {
          "output_type": "execute_result",
          "data": {
            "text/plain": [
              "('pears', 'fig', 'apples', 'pears')"
            ]
          },
          "metadata": {},
          "execution_count": 48
        }
      ]
    },
    {
      "cell_type": "markdown",
      "source": [
        "#### Loops"
      ],
      "metadata": {
        "id": "Mymr7RhN0Ism"
      }
    },
    {
      "cell_type": "markdown",
      "source": [
        "##### For loop\n",
        "\n",
        "will run over a range of values"
      ],
      "metadata": {
        "id": "oNSBw50i0s7-"
      }
    },
    {
      "cell_type": "code",
      "source": [
        "for num in range(1,5):\n",
        "  print(num**2)"
      ],
      "metadata": {
        "colab": {
          "base_uri": "https://localhost:8080/"
        },
        "id": "xI_x_2tn0vyd",
        "outputId": "49734228-26c3-4b4b-e7b7-9c728fc07911"
      },
      "execution_count": 53,
      "outputs": [
        {
          "output_type": "stream",
          "name": "stdout",
          "text": [
            "1\n",
            "4\n",
            "9\n",
            "16\n"
          ]
        }
      ]
    },
    {
      "cell_type": "markdown",
      "source": [
        "##### While loop\n",
        "\n",
        "will run till the time a condition is being met"
      ],
      "metadata": {
        "id": "0NIxBdYM09xt"
      }
    },
    {
      "cell_type": "code",
      "source": [
        "counter = 1\n",
        "\n",
        "while counter < 5:\n",
        "  print(counter**2)\n",
        "  counter = counter + 1"
      ],
      "metadata": {
        "colab": {
          "base_uri": "https://localhost:8080/"
        },
        "id": "3WmI9CQk1cV8",
        "outputId": "849cfbf2-3a87-45bc-fe83-5a10bdfb1617"
      },
      "execution_count": 54,
      "outputs": [
        {
          "output_type": "stream",
          "name": "stdout",
          "text": [
            "1\n",
            "4\n",
            "9\n",
            "16\n"
          ]
        }
      ]
    },
    {
      "cell_type": "markdown",
      "source": [
        "#### Functions\n",
        "\n",
        "it is a modular way of writing a code. Whenever we want a piece of code to be reused, we write a function"
      ],
      "metadata": {
        "id": "xbrYHWAH1r1D"
      }
    },
    {
      "cell_type": "code",
      "source": [
        "x = 50\n",
        "y = 100"
      ],
      "metadata": {
        "id": "oAzOY-Bt16V_"
      },
      "execution_count": 55,
      "outputs": []
    },
    {
      "cell_type": "code",
      "source": [
        "x+y"
      ],
      "metadata": {
        "colab": {
          "base_uri": "https://localhost:8080/"
        },
        "id": "YiqnKP3i2JUI",
        "outputId": "a829ab71-394e-4be9-e12d-c3be55adf5ba"
      },
      "execution_count": 56,
      "outputs": [
        {
          "output_type": "execute_result",
          "data": {
            "text/plain": [
              "150"
            ]
          },
          "metadata": {},
          "execution_count": 56
        }
      ]
    },
    {
      "cell_type": "code",
      "source": [
        "x = 30\n",
        "y = 70"
      ],
      "metadata": {
        "id": "xyciYdC92KM3"
      },
      "execution_count": 59,
      "outputs": []
    },
    {
      "cell_type": "code",
      "source": [
        "x+y"
      ],
      "metadata": {
        "colab": {
          "base_uri": "https://localhost:8080/"
        },
        "id": "w74fkSf72Nvo",
        "outputId": "b7a0f25e-1749-4363-e979-fbc091f4d357"
      },
      "execution_count": 60,
      "outputs": [
        {
          "output_type": "execute_result",
          "data": {
            "text/plain": [
              "100"
            ]
          },
          "metadata": {},
          "execution_count": 60
        }
      ]
    },
    {
      "cell_type": "code",
      "source": [
        "def add_num(x,y):\n",
        "  print (x+y)"
      ],
      "metadata": {
        "id": "F3M4wY6I2OYB"
      },
      "execution_count": 61,
      "outputs": []
    },
    {
      "cell_type": "code",
      "source": [
        "add_num(10,1000)"
      ],
      "metadata": {
        "colab": {
          "base_uri": "https://localhost:8080/"
        },
        "id": "Uc26FbWT2gT9",
        "outputId": "b11f24b6-727b-4baa-9f50-3c97d45dacea"
      },
      "execution_count": 62,
      "outputs": [
        {
          "output_type": "stream",
          "name": "stdout",
          "text": [
            "1010\n"
          ]
        }
      ]
    },
    {
      "cell_type": "code",
      "source": [
        "def add_num1(x,y):\n",
        "  if x%2 == 0:\n",
        "    if y%2==0:\n",
        "\n",
        "      return (x+y)"
      ],
      "metadata": {
        "id": "2d0fNRuB2iEF"
      },
      "execution_count": 63,
      "outputs": []
    },
    {
      "cell_type": "code",
      "source": [
        "add_num1(10,1000)"
      ],
      "metadata": {
        "colab": {
          "base_uri": "https://localhost:8080/"
        },
        "id": "QNSluUji2nbS",
        "outputId": "dda3646e-f2ee-4a6c-a544-4aded66a2935"
      },
      "execution_count": 64,
      "outputs": [
        {
          "output_type": "execute_result",
          "data": {
            "text/plain": [
              "1010"
            ]
          },
          "metadata": {},
          "execution_count": 64
        }
      ]
    },
    {
      "cell_type": "code",
      "source": [
        "output = add_num(10,10)"
      ],
      "metadata": {
        "colab": {
          "base_uri": "https://localhost:8080/"
        },
        "id": "7kb-6AVt2nZK",
        "outputId": "940e6164-da54-43ca-bdfa-0bbbd768f02e"
      },
      "execution_count": 65,
      "outputs": [
        {
          "output_type": "stream",
          "name": "stdout",
          "text": [
            "20\n"
          ]
        }
      ]
    },
    {
      "cell_type": "code",
      "source": [
        "output+10"
      ],
      "metadata": {
        "colab": {
          "base_uri": "https://localhost:8080/",
          "height": 166
        },
        "id": "SDI6OdDV2nW9",
        "outputId": "16e6d85f-068b-4f4f-e27c-a6b746902725"
      },
      "execution_count": 66,
      "outputs": [
        {
          "output_type": "error",
          "ename": "TypeError",
          "evalue": "ignored",
          "traceback": [
            "\u001b[0;31m---------------------------------------------------------------------------\u001b[0m",
            "\u001b[0;31mTypeError\u001b[0m                                 Traceback (most recent call last)",
            "\u001b[0;32m<ipython-input-66-26985c51d61b>\u001b[0m in \u001b[0;36m<cell line: 1>\u001b[0;34m()\u001b[0m\n\u001b[0;32m----> 1\u001b[0;31m \u001b[0moutput\u001b[0m\u001b[0;34m+\u001b[0m\u001b[0;36m10\u001b[0m\u001b[0;34m\u001b[0m\u001b[0;34m\u001b[0m\u001b[0m\n\u001b[0m",
            "\u001b[0;31mTypeError\u001b[0m: unsupported operand type(s) for +: 'NoneType' and 'int'"
          ]
        }
      ]
    },
    {
      "cell_type": "code",
      "source": [
        "type(output)"
      ],
      "metadata": {
        "colab": {
          "base_uri": "https://localhost:8080/"
        },
        "id": "EAJdcA8o2nU0",
        "outputId": "5458fc70-70f8-4408-86c4-765b7c7a78ce"
      },
      "execution_count": 67,
      "outputs": [
        {
          "output_type": "execute_result",
          "data": {
            "text/plain": [
              "NoneType"
            ]
          },
          "metadata": {},
          "execution_count": 67
        }
      ]
    },
    {
      "cell_type": "code",
      "source": [
        "output1 = add_num1(10,10)"
      ],
      "metadata": {
        "id": "b9BHC9ES2nTF"
      },
      "execution_count": 70,
      "outputs": []
    },
    {
      "cell_type": "code",
      "source": [
        "output1+10"
      ],
      "metadata": {
        "colab": {
          "base_uri": "https://localhost:8080/"
        },
        "id": "fety814a2nQg",
        "outputId": "862ba8f6-af8d-454b-fdb9-893cb0451f8f"
      },
      "execution_count": 71,
      "outputs": [
        {
          "output_type": "execute_result",
          "data": {
            "text/plain": [
              "30"
            ]
          },
          "metadata": {},
          "execution_count": 71
        }
      ]
    },
    {
      "cell_type": "code",
      "source": [
        "type(output1)"
      ],
      "metadata": {
        "colab": {
          "base_uri": "https://localhost:8080/"
        },
        "id": "S8QUlHs22nNX",
        "outputId": "e8b23182-7503-46c9-bbe2-06983041b2be"
      },
      "execution_count": 72,
      "outputs": [
        {
          "output_type": "execute_result",
          "data": {
            "text/plain": [
              "int"
            ]
          },
          "metadata": {},
          "execution_count": 72
        }
      ]
    },
    {
      "cell_type": "markdown",
      "source": [
        "##### Lambda functions\n",
        "\n",
        "* Anonymous functions\n",
        "* we do not name them\n",
        "* they are executed in a single line of code"
      ],
      "metadata": {
        "id": "GAbCiWb02nLL"
      }
    },
    {
      "cell_type": "code",
      "source": [
        "add = lambda x,y:x+y"
      ],
      "metadata": {
        "id": "R5e6APk02nIo"
      },
      "execution_count": 78,
      "outputs": []
    },
    {
      "cell_type": "code",
      "source": [
        "type(add(2,3))"
      ],
      "metadata": {
        "colab": {
          "base_uri": "https://localhost:8080/"
        },
        "id": "b4lDeWzV2nFu",
        "outputId": "f32a3231-0db1-48de-86f2-e1a9399e4bb4"
      },
      "execution_count": 75,
      "outputs": [
        {
          "output_type": "execute_result",
          "data": {
            "text/plain": [
              "int"
            ]
          },
          "metadata": {},
          "execution_count": 75
        }
      ]
    },
    {
      "cell_type": "code",
      "source": [],
      "metadata": {
        "colab": {
          "base_uri": "https://localhost:8080/"
        },
        "id": "jD63eGMe2nDf",
        "outputId": "78be3918-c694-493b-e998-2816424a72ba"
      },
      "execution_count": 77,
      "outputs": [
        {
          "output_type": "execute_result",
          "data": {
            "text/plain": [
              "('pears', 'fig', 'apples', 'pears')"
            ]
          },
          "metadata": {},
          "execution_count": 77
        }
      ]
    },
    {
      "cell_type": "code",
      "source": [],
      "metadata": {
        "id": "jPWGES7K4kmw"
      },
      "execution_count": null,
      "outputs": []
    },
    {
      "cell_type": "markdown",
      "source": [
        "Create a student's database, that contains:\n",
        "\n",
        "* student_id,\n",
        "* student_name,\n",
        "* gender\n",
        "* age\n",
        "* department/class\n",
        "* subject_id\n",
        "* grades/total_marks\n",
        "* backlogs"
      ],
      "metadata": {
        "id": "CUUvoqW85UNK"
      }
    },
    {
      "cell_type": "code",
      "source": [
        "student_ids = ['S01','S02','S03','S04']\n",
        "gender = ['M','F','F','M']\n",
        "departments = ['CS','ECE','EE','CS']\n",
        "age = [18,22,24,21]\n",
        "sub_id = ['m01','ed01','ee01','cs01']\n",
        "total_marks = [400,450,300,280]\n",
        "backlogs = ['No backlog','Backlog','No Backlog','No Backlog']"
      ],
      "metadata": {
        "id": "eJBb_KZR5ULQ"
      },
      "execution_count": 79,
      "outputs": []
    },
    {
      "cell_type": "code",
      "source": [
        "#the university just received percentage of of sessionals for these students\n",
        "\n",
        "perc_sessional = [.75,.85,.55,.60]"
      ],
      "metadata": {
        "id": "DM5ODXsV5UJr"
      },
      "execution_count": 80,
      "outputs": []
    },
    {
      "cell_type": "code",
      "source": [
        "for i in range(len(student_ids)):\n",
        "  print(i)"
      ],
      "metadata": {
        "colab": {
          "base_uri": "https://localhost:8080/"
        },
        "id": "HyxMKKCk8cvN",
        "outputId": "b1edcb31-bae0-4b25-bba3-8212f9e9e028"
      },
      "execution_count": 87,
      "outputs": [
        {
          "output_type": "stream",
          "name": "stdout",
          "text": [
            "0\n",
            "1\n",
            "2\n",
            "3\n"
          ]
        }
      ]
    },
    {
      "cell_type": "code",
      "source": [
        "# whoever has got more than 80%, increase their total marks by 2% and\n",
        "#whoever has received less than 60%, dcrease their marks by 2%\n",
        "\n",
        "for i in range(len(student_ids)):\n",
        "  if perc_sessional[i] > 0.80:\n",
        "    total_marks[i] = total_marks[i]+total_marks[i]*.02\n",
        "\n",
        "  elif perc_sessional[i]<0.60:\n",
        "    total_marks[i] = total_marks[i]-total_marks[i]*.02\n",
        "\n",
        "  else:\n",
        "    total_marks[i] = total_marks[i]"
      ],
      "metadata": {
        "id": "HMK2uf7X5UIB"
      },
      "execution_count": 84,
      "outputs": []
    },
    {
      "cell_type": "code",
      "source": [
        "total_marks"
      ],
      "metadata": {
        "colab": {
          "base_uri": "https://localhost:8080/"
        },
        "id": "ekVWReAR5UE1",
        "outputId": "9acb7300-ecb8-4364-d326-818c19123794"
      },
      "execution_count": 85,
      "outputs": [
        {
          "output_type": "execute_result",
          "data": {
            "text/plain": [
              "[400, 459.0, 294.0, 280]"
            ]
          },
          "metadata": {},
          "execution_count": 85
        }
      ]
    },
    {
      "cell_type": "markdown",
      "source": [
        "If a student has no backlog and their total_marks is between 350-400, they will get a **standard scholarship** and if their marks is greater than 450, they will get a **platinum scholarship** or else **no scholarship**.Come up with a new list that shows the scholarship values"
      ],
      "metadata": {
        "id": "pWhpuM4Q5UB8"
      }
    },
    {
      "cell_type": "code",
      "source": [],
      "metadata": {
        "id": "hf-KnZAX5T_f"
      },
      "execution_count": null,
      "outputs": []
    },
    {
      "cell_type": "code",
      "source": [],
      "metadata": {
        "id": "3hBZccGB5T9h"
      },
      "execution_count": null,
      "outputs": []
    },
    {
      "cell_type": "code",
      "source": [],
      "metadata": {
        "id": "TXOQXLkD5T6r"
      },
      "execution_count": null,
      "outputs": []
    }
  ]
}